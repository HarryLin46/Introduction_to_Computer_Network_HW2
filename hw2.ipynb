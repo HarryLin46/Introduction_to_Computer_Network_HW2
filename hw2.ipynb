{
 "cells": [
  {
   "cell_type": "code",
   "execution_count": 2,
   "id": "d6bc6ff2",
   "metadata": {},
   "outputs": [],
   "source": [
    "import numpy as np \n",
    "import copy"
   ]
  },
  {
   "cell_type": "code",
   "execution_count": 102,
   "id": "2ee20c0c",
   "metadata": {},
   "outputs": [],
   "source": [
    "input_file = \"p1_test1.txt\"\n",
    "remove_router = 2"
   ]
  },
  {
   "cell_type": "code",
   "execution_count": 103,
   "id": "71a8f197",
   "metadata": {},
   "outputs": [],
   "source": [
    "with open('testcase/'+input_file) as f:\n",
    "    lines = f.readlines()\n",
    "    #discard \\n\n",
    "    for i in range(len(lines)):\n",
    "        lines[i] = lines[i].replace('\\n','')\n",
    "        lines[i] = lines[i].split(' ')\n",
    "    \n",
    "    #how many routers\n",
    "    router_number = int(lines[0][0])\n",
    "    #create table\n",
    "    table = np.zeros((router_number,router_number))\n",
    "    for i in range(router_number):\n",
    "        for j in range(router_number):\n",
    "            table[i][j] = lines[i+1][j]"
   ]
  },
  {
   "cell_type": "code",
   "execution_count": 104,
   "id": "edd18318",
   "metadata": {},
   "outputs": [
    {
     "name": "stdout",
     "output_type": "stream",
     "text": [
      "[[ 0.  3. -1.  3. -1. -1.]\n",
      " [ 3.  0.  8. -1.  2.  5.]\n",
      " [-1.  8.  0.  1. -1. -1.]\n",
      " [ 3. -1.  1.  0. -1. -1.]\n",
      " [-1.  2. -1. -1.  0. -1.]\n",
      " [-1.  5. -1. -1. -1.  0.]]\n"
     ]
    }
   ],
   "source": [
    "print(table)"
   ]
  },
  {
   "cell_type": "code",
   "execution_count": 105,
   "id": "363e8010",
   "metadata": {},
   "outputs": [],
   "source": [
    "def Dijkstra_alg(source,N,table):\n",
    "    N_copy = copy.deepcopy(N)\n",
    "    router_number = len(N)\n",
    "    D = np.zeros((router_number,))\n",
    "    pred = np.zeros((router_number,))\n",
    "    for i in range(router_number):\n",
    "        pred[i] = source\n",
    "    #initialize\n",
    "    M = [source] # M=N' in the slide\n",
    "    for i in range(len(N)):\n",
    "        if table[source][i] == -1:\n",
    "            D[i] = float(\"inf\")\n",
    "        else:\n",
    "            D[i] = table[source][i]\n",
    "            pred[i] = source\n",
    "    N_copy.remove(source)\n",
    "    print(\"D0:\",D)\n",
    "    print(\"N_copy0:\",N_copy)\n",
    "    #loop\n",
    "    while(len(M) < router_number):\n",
    "        minimum = float(\"inf\")\n",
    "        for i in range(len(N_copy)):\n",
    "            if D[N_copy[i]] < minimum:\n",
    "                cheapest_node = N_copy[i]\n",
    "                minimum = D[N_copy[i]]\n",
    "        try:\n",
    "            if cheapest_node in M: #then we have done\n",
    "                print('break D:',D)\n",
    "                break\n",
    "        except UnboundLocalError:\n",
    "            print('UnboundLocalError D:',D)\n",
    "            break\n",
    "        print(\"cheapest_node\",cheapest_node)\n",
    "        print(\"N_copy:\",N_copy)\n",
    "        print(\"M:\",M)\n",
    "        M.append(cheapest_node)\n",
    "        N_copy.remove(cheapest_node)\n",
    "        \n",
    "        #update D\n",
    "        for i in range(len(N_copy)):\n",
    "            node=N_copy[i]\n",
    "            if table[cheapest_node][node] == -1:\n",
    "                continue\n",
    "            else:\n",
    "                before_update=D[node]\n",
    "                D[node] = min(D[node],D[cheapest_node] + table[cheapest_node][node])\n",
    "                if D[node] == D[cheapest_node] + table[cheapest_node][node] and D[node]!=before_update:\n",
    "                    pred[node] = cheapest_node\n",
    "    return D,pred"
   ]
  },
  {
   "cell_type": "code",
   "execution_count": 106,
   "id": "e4ef0181",
   "metadata": {},
   "outputs": [],
   "source": [
    "def construct_forwarding_table(source,N,pred):\n",
    "    router_number = len(N)\n",
    "    forward_table = np.zeros((router_number,))\n",
    "    \n",
    "    for i in range(router_number):\n",
    "        forward_router = i\n",
    "        \n",
    "        while pred[forward_router]!=source:\n",
    "            forward_router = int(pred[forward_router])\n",
    "        \n",
    "        forward_table[i] = forward_router\n",
    "    return forward_table\n",
    "    "
   ]
  },
  {
   "cell_type": "code",
   "execution_count": 107,
   "id": "ee4ab384",
   "metadata": {},
   "outputs": [],
   "source": [
    "def link_state_alg(source,N,table,f):\n",
    "    router_number = len(N)\n",
    "    cost,pred = Dijkstra_alg(source,N,table)\n",
    "    print(pred)\n",
    "    forward_table = construct_forwarding_table(source,N,pred)\n",
    "    \n",
    "    f.write(\"Routing table of router \" + str(source+1) + \":\\n\")\n",
    "    for i in range(router_number):\n",
    "        f.write(str(int(cost[i]))+\" \"+ str(int(forward_table[i])+1)+'\\n')\n",
    "#         f.write(str(cost[i])+\" \"+'\\n')"
   ]
  },
  {
   "cell_type": "code",
   "execution_count": 108,
   "id": "9d40e29a",
   "metadata": {},
   "outputs": [],
   "source": [
    "def link_state_alg_rm(source,rm_node,N,table,f):\n",
    "    router_number = len(N)\n",
    "    cost,pred = Dijkstra_alg(source,N,table)\n",
    "    print(pred)\n",
    "    forward_table = construct_forwarding_table(source,N,pred)\n",
    "    \n",
    "    f.write(\"Routing table of router \" + str(source+1) + \":\\n\")\n",
    "    for i in range(router_number):\n",
    "        if i==rm_node-1 or cost[i]==float(\"inf\"):\n",
    "            f.write(\"-1\"+\" \"+ \"-1\"+'\\n')\n",
    "        else:\n",
    "            f.write(str(int(cost[i]))+\" \"+ str(int(forward_table[i])+1)+'\\n')"
   ]
  },
  {
   "cell_type": "code",
   "execution_count": 109,
   "id": "84f7d66d",
   "metadata": {
    "scrolled": false
   },
   "outputs": [
    {
     "name": "stdout",
     "output_type": "stream",
     "text": [
      "D0: [ 0. inf inf  3. inf inf]\n",
      "N_copy0: [1, 2, 3, 4, 5]\n",
      "cheapest_node 3\n",
      "N_copy: [1, 2, 3, 4, 5]\n",
      "M: [0]\n",
      "cheapest_node 2\n",
      "N_copy: [1, 2, 4, 5]\n",
      "M: [0, 3]\n",
      "break D: [ 0. inf  4.  3. inf inf]\n",
      "[0. 0. 3. 0. 0. 0.]\n",
      "D0: [inf inf  0.  1. inf inf]\n",
      "N_copy0: [0, 1, 3, 4, 5]\n",
      "cheapest_node 3\n",
      "N_copy: [0, 1, 3, 4, 5]\n",
      "M: [2]\n",
      "cheapest_node 0\n",
      "N_copy: [0, 1, 4, 5]\n",
      "M: [2, 3]\n",
      "break D: [ 4. inf  0.  1. inf inf]\n",
      "[3. 2. 2. 2. 2. 2.]\n",
      "D0: [ 3. inf  1.  0. inf inf]\n",
      "N_copy0: [0, 1, 2, 4, 5]\n",
      "cheapest_node 2\n",
      "N_copy: [0, 1, 2, 4, 5]\n",
      "M: [3]\n",
      "cheapest_node 0\n",
      "N_copy: [0, 1, 4, 5]\n",
      "M: [3, 2]\n",
      "break D: [ 3. inf  1.  0. inf inf]\n",
      "[3. 3. 3. 3. 3. 3.]\n",
      "D0: [inf inf inf inf  0. inf]\n",
      "N_copy0: [0, 1, 2, 3, 5]\n",
      "UnboundLocalError D: [inf inf inf inf  0. inf]\n",
      "[4. 4. 4. 4. 4. 4.]\n",
      "D0: [inf inf inf inf inf  0.]\n",
      "N_copy0: [0, 1, 2, 3, 4]\n",
      "UnboundLocalError D: [inf inf inf inf inf  0.]\n",
      "[5. 5. 5. 5. 5. 5.]\n"
     ]
    }
   ],
   "source": [
    "name = input_file[:-4]\n",
    "if remove_router == \"\":\n",
    "    with open(\"testcase/\"+ name + \"_GenTable.txt\",'w') as f:\n",
    "        N = []\n",
    "        for j in range(router_number):\n",
    "                N.append(j)\n",
    "        for i in range(router_number):\n",
    "            link_state_alg(i,N,table,f)\n",
    "            \n",
    "else: #p2\n",
    "    #reconstruct table\n",
    "    rm_index = remove_router - 1\n",
    "    for i in range(router_number):\n",
    "        table[rm_index][i] = -1\n",
    "        table[i][rm_index] = -1\n",
    "    \n",
    "    with open(\"testcase/\"+ name + \"_RmRouter\"+ str(remove_router) +\".txt\",'w') as f:\n",
    "        N = []\n",
    "        for j in range(router_number):\n",
    "                N.append(j)\n",
    "        for i in N:\n",
    "            if i!=rm_index:\n",
    "                link_state_alg_rm(i,remove_router,N,table,f)"
   ]
  },
  {
   "cell_type": "code",
   "execution_count": null,
   "id": "03255d67",
   "metadata": {},
   "outputs": [],
   "source": []
  },
  {
   "cell_type": "code",
   "execution_count": null,
   "id": "b0d4a267",
   "metadata": {},
   "outputs": [],
   "source": []
  },
  {
   "cell_type": "code",
   "execution_count": null,
   "id": "aa364934",
   "metadata": {},
   "outputs": [],
   "source": []
  },
  {
   "cell_type": "code",
   "execution_count": 127,
   "id": "c25d39ff",
   "metadata": {},
   "outputs": [],
   "source": [
    "name = input_file[:-4]"
   ]
  },
  {
   "cell_type": "code",
   "execution_count": 128,
   "id": "f8efe7e5",
   "metadata": {},
   "outputs": [
    {
     "data": {
      "text/plain": [
       "'p1_test2'"
      ]
     },
     "execution_count": 128,
     "metadata": {},
     "output_type": "execute_result"
    }
   ],
   "source": [
    "name"
   ]
  },
  {
   "cell_type": "code",
   "execution_count": 129,
   "id": "b004c508",
   "metadata": {},
   "outputs": [
    {
     "data": {
      "text/plain": [
       "int"
      ]
     },
     "execution_count": 129,
     "metadata": {},
     "output_type": "execute_result"
    }
   ],
   "source": [
    "a = range(3)\n",
    "type(a[2])"
   ]
  },
  {
   "cell_type": "code",
   "execution_count": 130,
   "id": "b96d146d",
   "metadata": {},
   "outputs": [
    {
     "name": "stdout",
     "output_type": "stream",
     "text": [
      "df\n"
     ]
    }
   ],
   "source": [
    "a=2\n",
    "b=3\n",
    "if a!=b:\n",
    "    print('df')"
   ]
  },
  {
   "cell_type": "code",
   "execution_count": 131,
   "id": "406ab950",
   "metadata": {},
   "outputs": [
    {
     "data": {
      "text/plain": [
       "'0.0'"
      ]
     },
     "execution_count": 131,
     "metadata": {},
     "output_type": "execute_result"
    }
   ],
   "source": [
    "str(table[2][2])"
   ]
  },
  {
   "cell_type": "code",
   "execution_count": 132,
   "id": "a0ce908b",
   "metadata": {},
   "outputs": [
    {
     "name": "stdout",
     "output_type": "stream",
     "text": [
      "<class 'int'>\n",
      "<class 'int'>\n",
      "<class 'int'>\n",
      "<class 'int'>\n",
      "<class 'int'>\n"
     ]
    }
   ],
   "source": [
    "for i in range(router_number):\n",
    "    print(type(i))"
   ]
  },
  {
   "cell_type": "code",
   "execution_count": 133,
   "id": "f5ae1d56",
   "metadata": {},
   "outputs": [],
   "source": [
    "def cut(a):\n",
    "    a_copy=a\n",
    "    a_copy.remove(3)"
   ]
  },
  {
   "cell_type": "code",
   "execution_count": 134,
   "id": "b322b03f",
   "metadata": {},
   "outputs": [
    {
     "name": "stdout",
     "output_type": "stream",
     "text": [
      "[0, 1, 2]\n"
     ]
    }
   ],
   "source": [
    "a = [0,1,2,3]\n",
    "cut(a)\n",
    "print(a)"
   ]
  },
  {
   "cell_type": "code",
   "execution_count": 135,
   "id": "8ba439fe",
   "metadata": {},
   "outputs": [
    {
     "name": "stdout",
     "output_type": "stream",
     "text": [
      "d\n"
     ]
    }
   ],
   "source": [
    "if table[2][3]!=1:\n",
    "    print('d')"
   ]
  },
  {
   "cell_type": "code",
   "execution_count": 136,
   "id": "0d843b4b",
   "metadata": {},
   "outputs": [
    {
     "data": {
      "text/plain": [
       "-1.0"
      ]
     },
     "execution_count": 136,
     "metadata": {},
     "output_type": "execute_result"
    }
   ],
   "source": [
    "table[2][3]"
   ]
  },
  {
   "cell_type": "code",
   "execution_count": null,
   "id": "c3529010",
   "metadata": {},
   "outputs": [],
   "source": []
  },
  {
   "cell_type": "code",
   "execution_count": null,
   "id": "bfb92751",
   "metadata": {},
   "outputs": [],
   "source": []
  }
 ],
 "metadata": {
  "kernelspec": {
   "display_name": "Python 3 (ipykernel)",
   "language": "python",
   "name": "python3"
  },
  "language_info": {
   "codemirror_mode": {
    "name": "ipython",
    "version": 3
   },
   "file_extension": ".py",
   "mimetype": "text/x-python",
   "name": "python",
   "nbconvert_exporter": "python",
   "pygments_lexer": "ipython3",
   "version": "3.9.7"
  }
 },
 "nbformat": 4,
 "nbformat_minor": 5
}
