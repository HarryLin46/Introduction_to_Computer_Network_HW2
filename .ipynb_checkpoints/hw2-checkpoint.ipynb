{
 "cells": [
  {
   "cell_type": "code",
   "execution_count": 119,
   "id": "d6bc6ff2",
   "metadata": {},
   "outputs": [],
   "source": [
    "import numpy as np \n",
    "import copy"
   ]
  },
  {
   "cell_type": "code",
   "execution_count": 146,
   "id": "2ee20c0c",
   "metadata": {},
   "outputs": [],
   "source": [
    "input_file = \"p1_test2.txt\""
   ]
  },
  {
   "cell_type": "code",
   "execution_count": 147,
   "id": "71a8f197",
   "metadata": {},
   "outputs": [],
   "source": [
    "with open('testcase/'+input_file) as f:\n",
    "    lines = f.readlines()\n",
    "    #discard \\n\n",
    "    for i in range(len(lines)):\n",
    "        lines[i] = lines[i].replace('\\n','')\n",
    "        lines[i] = lines[i].split(' ')\n",
    "    \n",
    "    #how many routers\n",
    "    router_number = int(lines[0][0])\n",
    "    #create table\n",
    "    table = np.zeros((router_number,router_number))\n",
    "    for i in range(router_number):\n",
    "        for j in range(router_number):\n",
    "            table[i][j] = lines[i+1][j]"
   ]
  },
  {
   "cell_type": "code",
   "execution_count": 148,
   "id": "edd18318",
   "metadata": {},
   "outputs": [
    {
     "name": "stdout",
     "output_type": "stream",
     "text": [
      "[[ 0.  3.  2. -1. -1.]\n",
      " [ 3.  0.  5.  3. -1.]\n",
      " [ 2.  5.  0. -1. 20.]\n",
      " [-1.  3. -1.  0.  4.]\n",
      " [-1. -1. 20.  4.  0.]]\n"
     ]
    }
   ],
   "source": [
    "print(table)"
   ]
  },
  {
   "cell_type": "code",
   "execution_count": 149,
   "id": "363e8010",
   "metadata": {},
   "outputs": [],
   "source": [
    "def Dijkstra_alg(source,N,table):\n",
    "    N_copy = copy.deepcopy(N)\n",
    "    router_number = len(N)\n",
    "    D = np.zeros((router_number,))\n",
    "    pred = np.zeros((router_number,))\n",
    "    #initialize\n",
    "    M = [source] # M=N' in the slide\n",
    "    for i in range(len(N)):\n",
    "        if table[source][i] == -1:\n",
    "            D[i] = float(\"inf\")\n",
    "        else:\n",
    "            D[i] = table[source][i]\n",
    "            pred[i] = source\n",
    "    N_copy.remove(source)\n",
    "    #loop\n",
    "    while(len(M) < router_number):\n",
    "        minimum = float(\"inf\")\n",
    "        for i in range(len(N_copy)):\n",
    "            if D[N_copy[i]] < minimum:\n",
    "                cheapest_node = N_copy[i]\n",
    "                minimum = D[N_copy[i]]\n",
    "        M.append(cheapest_node)\n",
    "        N_copy.remove(cheapest_node)\n",
    "        \n",
    "        #update D\n",
    "        for i in range(len(N_copy)):\n",
    "            node=N_copy[i]\n",
    "            if table[cheapest_node][node] == -1:\n",
    "                continue\n",
    "            else:\n",
    "                D[node] = min(D[node],D[cheapest_node] + table[cheapest_node][node])\n",
    "                if D[node] == D[cheapest_node] + table[cheapest_node][node]:\n",
    "                    pred[node] = cheapest_node\n",
    "    return D,pred"
   ]
  },
  {
   "cell_type": "code",
   "execution_count": 150,
   "id": "e4ef0181",
   "metadata": {},
   "outputs": [],
   "source": [
    "def construct_forwarding_table(source,N,pred):\n",
    "    router_number = len(N)\n",
    "    forward_table = np.zeros((router_number,))\n",
    "    \n",
    "    for i in range(router_number):\n",
    "        forward_router = i\n",
    "\n",
    "        while pred[forward_router]!=source:\n",
    "            forward_router = int(pred[forward_router])\n",
    "        \n",
    "        forward_table[i] = forward_router\n",
    "    return forward_table\n",
    "    "
   ]
  },
  {
   "cell_type": "code",
   "execution_count": 151,
   "id": "ee4ab384",
   "metadata": {},
   "outputs": [],
   "source": [
    "def link_state_alg(source,N,table,f):\n",
    "    router_number = len(N)\n",
    "    cost,pred = Dijkstra_alg(source,N,table)\n",
    "    print(pred)\n",
    "    forward_table = construct_forwarding_table(source,N,pred)\n",
    "    \n",
    "    f.write(\"Routing table of router \" + str(source+1) + \":\\n\")\n",
    "    for i in range(router_number):\n",
    "        f.write(str(int(cost[i]))+\" \"+ str(int(forward_table[i])+1)+'\\n')\n",
    "#         f.write(str(cost[i])+\" \"+'\\n')"
   ]
  },
  {
   "cell_type": "code",
   "execution_count": 153,
   "id": "84f7d66d",
   "metadata": {},
   "outputs": [
    {
     "name": "stdout",
     "output_type": "stream",
     "text": [
      "[0. 0. 0. 1. 3.]\n",
      "[1. 1. 0. 1. 3.]\n",
      "[2. 0. 2. 1. 3.]\n",
      "[1. 3. 0. 3. 3.]\n",
      "[1. 3. 0. 4. 4.]\n"
     ]
    }
   ],
   "source": [
    "name = input_file[:-4]\n",
    "with open(\"testcase/\"+ name + \"_GenTable.txt\",'w') as f:\n",
    "    N = []\n",
    "    for j in range(router_number):\n",
    "            N.append(j)\n",
    "    for i in range(router_number):\n",
    "        link_state_alg(i,N,table,f)"
   ]
  },
  {
   "cell_type": "code",
   "execution_count": 127,
   "id": "c25d39ff",
   "metadata": {},
   "outputs": [],
   "source": [
    "name = input_file[:-4]"
   ]
  },
  {
   "cell_type": "code",
   "execution_count": 128,
   "id": "f8efe7e5",
   "metadata": {},
   "outputs": [
    {
     "data": {
      "text/plain": [
       "'p1_test2'"
      ]
     },
     "execution_count": 128,
     "metadata": {},
     "output_type": "execute_result"
    }
   ],
   "source": [
    "name"
   ]
  },
  {
   "cell_type": "code",
   "execution_count": 129,
   "id": "b004c508",
   "metadata": {},
   "outputs": [
    {
     "data": {
      "text/plain": [
       "int"
      ]
     },
     "execution_count": 129,
     "metadata": {},
     "output_type": "execute_result"
    }
   ],
   "source": [
    "a = range(3)\n",
    "type(a[2])"
   ]
  },
  {
   "cell_type": "code",
   "execution_count": 130,
   "id": "b96d146d",
   "metadata": {},
   "outputs": [
    {
     "name": "stdout",
     "output_type": "stream",
     "text": [
      "df\n"
     ]
    }
   ],
   "source": [
    "a=2\n",
    "b=3\n",
    "if a!=b:\n",
    "    print('df')"
   ]
  },
  {
   "cell_type": "code",
   "execution_count": 131,
   "id": "406ab950",
   "metadata": {},
   "outputs": [
    {
     "data": {
      "text/plain": [
       "'0.0'"
      ]
     },
     "execution_count": 131,
     "metadata": {},
     "output_type": "execute_result"
    }
   ],
   "source": [
    "str(table[2][2])"
   ]
  },
  {
   "cell_type": "code",
   "execution_count": 132,
   "id": "a0ce908b",
   "metadata": {},
   "outputs": [
    {
     "name": "stdout",
     "output_type": "stream",
     "text": [
      "<class 'int'>\n",
      "<class 'int'>\n",
      "<class 'int'>\n",
      "<class 'int'>\n",
      "<class 'int'>\n"
     ]
    }
   ],
   "source": [
    "for i in range(router_number):\n",
    "    print(type(i))"
   ]
  },
  {
   "cell_type": "code",
   "execution_count": 133,
   "id": "f5ae1d56",
   "metadata": {},
   "outputs": [],
   "source": [
    "def cut(a):\n",
    "    a_copy=a\n",
    "    a_copy.remove(3)"
   ]
  },
  {
   "cell_type": "code",
   "execution_count": 134,
   "id": "b322b03f",
   "metadata": {},
   "outputs": [
    {
     "name": "stdout",
     "output_type": "stream",
     "text": [
      "[0, 1, 2]\n"
     ]
    }
   ],
   "source": [
    "a = [0,1,2,3]\n",
    "cut(a)\n",
    "print(a)"
   ]
  },
  {
   "cell_type": "code",
   "execution_count": 135,
   "id": "8ba439fe",
   "metadata": {},
   "outputs": [
    {
     "name": "stdout",
     "output_type": "stream",
     "text": [
      "d\n"
     ]
    }
   ],
   "source": [
    "if table[2][3]!=1:\n",
    "    print('d')"
   ]
  },
  {
   "cell_type": "code",
   "execution_count": 136,
   "id": "0d843b4b",
   "metadata": {},
   "outputs": [
    {
     "data": {
      "text/plain": [
       "-1.0"
      ]
     },
     "execution_count": 136,
     "metadata": {},
     "output_type": "execute_result"
    }
   ],
   "source": [
    "table[2][3]"
   ]
  },
  {
   "cell_type": "code",
   "execution_count": null,
   "id": "c3529010",
   "metadata": {},
   "outputs": [],
   "source": []
  },
  {
   "cell_type": "code",
   "execution_count": null,
   "id": "bfb92751",
   "metadata": {},
   "outputs": [],
   "source": []
  }
 ],
 "metadata": {
  "kernelspec": {
   "display_name": "Python 3 (ipykernel)",
   "language": "python",
   "name": "python3"
  },
  "language_info": {
   "codemirror_mode": {
    "name": "ipython",
    "version": 3
   },
   "file_extension": ".py",
   "mimetype": "text/x-python",
   "name": "python",
   "nbconvert_exporter": "python",
   "pygments_lexer": "ipython3",
   "version": "3.9.7"
  }
 },
 "nbformat": 4,
 "nbformat_minor": 5
}
